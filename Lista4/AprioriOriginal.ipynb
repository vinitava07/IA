{
 "cells": [
  {
   "cell_type": "markdown",
   "metadata": {
    "id": "qm5lmIq9Xe-a"
   },
   "source": [
    "**Regras de associação**\n",
    "\n",
    "**Algoritmo Apriori**\n",
    "\n",
    "**Veja: https://www.youtube.com/watch?v=0v6PiOpsJi8** "
   ]
  },
  {
   "cell_type": "code",
   "execution_count": 1,
   "metadata": {
    "colab": {
     "base_uri": "https://localhost:8080/"
    },
    "id": "2bZM-_AsBVca",
    "outputId": "22733a89-43fb-4ece-cc20-f21516a6c881"
   },
   "outputs": [
    {
     "name": "stdout",
     "output_type": "stream",
     "text": [
      "Defaulting to user installation because normal site-packages is not writeable\n",
      "Collecting apyori\n",
      "  Downloading apyori-1.1.2.tar.gz (8.6 kB)\n",
      "  Preparing metadata (setup.py) ... \u001b[?25ldone\n",
      "\u001b[?25hBuilding wheels for collected packages: apyori\n",
      "  Building wheel for apyori (setup.py) ... \u001b[?25ldone\n",
      "\u001b[?25h  Created wheel for apyori: filename=apyori-1.1.2-py3-none-any.whl size=5955 sha256=32dc53ac62885ef316179c3306c4848390d7b6de2924832c1f71e7ade36c2cb7\n",
      "  Stored in directory: /home/1413715/.cache/pip/wheels/77/3d/a6/d317a6fb32be58a602b1e8c6b5d6f31f79322da554cad2a5ea\n",
      "Successfully built apyori\n",
      "Installing collected packages: apyori\n",
      "\u001b[33m  WARNING: The script apyori-run is installed in '/home/1413715/.local/bin' which is not on PATH.\n",
      "  Consider adding this directory to PATH or, if you prefer to suppress this warning, use --no-warn-script-location.\u001b[0m\u001b[33m\n",
      "\u001b[0mSuccessfully installed apyori-1.1.2\n"
     ]
    }
   ],
   "source": [
    "!pip install apyori"
   ]
  },
  {
   "cell_type": "code",
   "execution_count": 94,
   "metadata": {
    "id": "m3d_ivF4Bcn5"
   },
   "outputs": [],
   "source": [
    "import pandas as pd\n",
    "from apyori import apriori"
   ]
  },
  {
   "cell_type": "code",
   "execution_count": 95,
   "metadata": {
    "colab": {
     "base_uri": "https://localhost:8080/",
     "height": 449
    },
    "id": "fGx34zCzBkw1",
    "outputId": "d719f509-7f66-424f-b88d-d1dddfc37b41"
   },
   "outputs": [
    {
     "data": {
      "text/html": [
       "<div>\n",
       "<style scoped>\n",
       "    .dataframe tbody tr th:only-of-type {\n",
       "        vertical-align: middle;\n",
       "    }\n",
       "\n",
       "    .dataframe tbody tr th {\n",
       "        vertical-align: top;\n",
       "    }\n",
       "\n",
       "    .dataframe thead th {\n",
       "        text-align: right;\n",
       "    }\n",
       "</style>\n",
       "<table border=\"1\" class=\"dataframe\">\n",
       "  <thead>\n",
       "    <tr style=\"text-align: right;\">\n",
       "      <th></th>\n",
       "      <th>Leite</th>\n",
       "      <th>Café</th>\n",
       "      <th>Cerveja</th>\n",
       "      <th>Pão</th>\n",
       "      <th>Manteiga</th>\n",
       "      <th>Arroz</th>\n",
       "      <th>Feijão</th>\n",
       "    </tr>\n",
       "  </thead>\n",
       "  <tbody>\n",
       "    <tr>\n",
       "      <th>0</th>\n",
       "      <td>NaN</td>\n",
       "      <td>Café</td>\n",
       "      <td>NaN</td>\n",
       "      <td>Pão</td>\n",
       "      <td>Manteiga</td>\n",
       "      <td>NaN</td>\n",
       "      <td>NaN</td>\n",
       "    </tr>\n",
       "    <tr>\n",
       "      <th>1</th>\n",
       "      <td>Leite</td>\n",
       "      <td>NaN</td>\n",
       "      <td>Cerveja</td>\n",
       "      <td>Pão</td>\n",
       "      <td>Manteiga</td>\n",
       "      <td>NaN</td>\n",
       "      <td>NaN</td>\n",
       "    </tr>\n",
       "    <tr>\n",
       "      <th>2</th>\n",
       "      <td>NaN</td>\n",
       "      <td>Café</td>\n",
       "      <td>NaN</td>\n",
       "      <td>Pão</td>\n",
       "      <td>Manteiga</td>\n",
       "      <td>NaN</td>\n",
       "      <td>NaN</td>\n",
       "    </tr>\n",
       "    <tr>\n",
       "      <th>3</th>\n",
       "      <td>Leite</td>\n",
       "      <td>Café</td>\n",
       "      <td>NaN</td>\n",
       "      <td>Pão</td>\n",
       "      <td>Manteiga</td>\n",
       "      <td>NaN</td>\n",
       "      <td>NaN</td>\n",
       "    </tr>\n",
       "    <tr>\n",
       "      <th>4</th>\n",
       "      <td>NaN</td>\n",
       "      <td>NaN</td>\n",
       "      <td>Cerveja</td>\n",
       "      <td>NaN</td>\n",
       "      <td>NaN</td>\n",
       "      <td>NaN</td>\n",
       "      <td>NaN</td>\n",
       "    </tr>\n",
       "    <tr>\n",
       "      <th>5</th>\n",
       "      <td>NaN</td>\n",
       "      <td>NaN</td>\n",
       "      <td>NaN</td>\n",
       "      <td>NaN</td>\n",
       "      <td>Manteiga</td>\n",
       "      <td>NaN</td>\n",
       "      <td>NaN</td>\n",
       "    </tr>\n",
       "    <tr>\n",
       "      <th>6</th>\n",
       "      <td>NaN</td>\n",
       "      <td>NaN</td>\n",
       "      <td>NaN</td>\n",
       "      <td>Pão</td>\n",
       "      <td>NaN</td>\n",
       "      <td>NaN</td>\n",
       "      <td>NaN</td>\n",
       "    </tr>\n",
       "    <tr>\n",
       "      <th>7</th>\n",
       "      <td>NaN</td>\n",
       "      <td>NaN</td>\n",
       "      <td>NaN</td>\n",
       "      <td>NaN</td>\n",
       "      <td>NaN</td>\n",
       "      <td>NaN</td>\n",
       "      <td>Feijão</td>\n",
       "    </tr>\n",
       "    <tr>\n",
       "      <th>8</th>\n",
       "      <td>NaN</td>\n",
       "      <td>NaN</td>\n",
       "      <td>NaN</td>\n",
       "      <td>NaN</td>\n",
       "      <td>NaN</td>\n",
       "      <td>Arroz</td>\n",
       "      <td>Feijão</td>\n",
       "    </tr>\n",
       "    <tr>\n",
       "      <th>9</th>\n",
       "      <td>NaN</td>\n",
       "      <td>NaN</td>\n",
       "      <td>NaN</td>\n",
       "      <td>NaN</td>\n",
       "      <td>NaN</td>\n",
       "      <td>Arroz</td>\n",
       "      <td>NaN</td>\n",
       "    </tr>\n",
       "  </tbody>\n",
       "</table>\n",
       "</div>"
      ],
      "text/plain": [
       "   Leite  Café  Cerveja  Pão  Manteiga  Arroz  Feijão\n",
       "0    NaN  Café      NaN  Pão  Manteiga    NaN     NaN\n",
       "1  Leite   NaN  Cerveja  Pão  Manteiga    NaN     NaN\n",
       "2    NaN  Café      NaN  Pão  Manteiga    NaN     NaN\n",
       "3  Leite  Café      NaN  Pão  Manteiga    NaN     NaN\n",
       "4    NaN   NaN  Cerveja  NaN       NaN    NaN     NaN\n",
       "5    NaN   NaN      NaN  NaN  Manteiga    NaN     NaN\n",
       "6    NaN   NaN      NaN  Pão       NaN    NaN     NaN\n",
       "7    NaN   NaN      NaN  NaN       NaN    NaN  Feijão\n",
       "8    NaN   NaN      NaN  NaN       NaN  Arroz  Feijão\n",
       "9    NaN   NaN      NaN  NaN       NaN  Arroz     NaN"
      ]
     },
     "execution_count": 95,
     "metadata": {},
     "output_type": "execute_result"
    }
   ],
   "source": [
    "#encoding = \"cp1252\", encoding='utf-8', encoding='latin1'etc\n",
    "base= pd.read_csv(\"pao_corrigido.csv\")\n",
    "#base= pd.read_csv('/content/sample_data/pasta de dente python SIM e NÃO.csv', ';', encoding='cp1252')\n",
    "#base= pd.read_csv('/content/sample_data/pasta de dente python SIM.csv', ';', encoding='cp1252',header=None)\n",
    "base"
   ]
  },
  {
   "cell_type": "code",
   "execution_count": 96,
   "metadata": {
    "colab": {
     "base_uri": "https://localhost:8080/"
    },
    "id": "bqUKr_T8PXYn",
    "outputId": "68304296-8afa-4e2b-d8de-6f36dcdcf343"
   },
   "outputs": [
    {
     "data": {
      "text/plain": [
       "(10, 7)"
      ]
     },
     "execution_count": 96,
     "metadata": {},
     "output_type": "execute_result"
    }
   ],
   "source": [
    "base.shape"
   ]
  },
  {
   "cell_type": "markdown",
   "metadata": {
    "id": "qMSzc0sIOd2S"
   },
   "source": [
    "**O código a seguir altera a base de dados para colocar as ausências dos produtos**"
   ]
  },
  {
   "cell_type": "code",
   "execution_count": 97,
   "metadata": {
    "id": "19-9OGl8N84K"
   },
   "outputs": [],
   "source": [
    "for column in base:\n",
    "     base[column]=base[column].fillna('~' + column)"
   ]
  },
  {
   "cell_type": "code",
   "execution_count": 98,
   "metadata": {
    "id": "EzgU0z9lPb7e"
   },
   "outputs": [
    {
     "data": {
      "text/html": [
       "<div>\n",
       "<style scoped>\n",
       "    .dataframe tbody tr th:only-of-type {\n",
       "        vertical-align: middle;\n",
       "    }\n",
       "\n",
       "    .dataframe tbody tr th {\n",
       "        vertical-align: top;\n",
       "    }\n",
       "\n",
       "    .dataframe thead th {\n",
       "        text-align: right;\n",
       "    }\n",
       "</style>\n",
       "<table border=\"1\" class=\"dataframe\">\n",
       "  <thead>\n",
       "    <tr style=\"text-align: right;\">\n",
       "      <th></th>\n",
       "      <th>Leite</th>\n",
       "      <th>Café</th>\n",
       "      <th>Cerveja</th>\n",
       "      <th>Pão</th>\n",
       "      <th>Manteiga</th>\n",
       "      <th>Arroz</th>\n",
       "      <th>Feijão</th>\n",
       "    </tr>\n",
       "  </thead>\n",
       "  <tbody>\n",
       "    <tr>\n",
       "      <th>0</th>\n",
       "      <td>~Leite</td>\n",
       "      <td>Café</td>\n",
       "      <td>~Cerveja</td>\n",
       "      <td>Pão</td>\n",
       "      <td>Manteiga</td>\n",
       "      <td>~Arroz</td>\n",
       "      <td>~Feijão</td>\n",
       "    </tr>\n",
       "    <tr>\n",
       "      <th>1</th>\n",
       "      <td>Leite</td>\n",
       "      <td>~Café</td>\n",
       "      <td>Cerveja</td>\n",
       "      <td>Pão</td>\n",
       "      <td>Manteiga</td>\n",
       "      <td>~Arroz</td>\n",
       "      <td>~Feijão</td>\n",
       "    </tr>\n",
       "    <tr>\n",
       "      <th>2</th>\n",
       "      <td>~Leite</td>\n",
       "      <td>Café</td>\n",
       "      <td>~Cerveja</td>\n",
       "      <td>Pão</td>\n",
       "      <td>Manteiga</td>\n",
       "      <td>~Arroz</td>\n",
       "      <td>~Feijão</td>\n",
       "    </tr>\n",
       "    <tr>\n",
       "      <th>3</th>\n",
       "      <td>Leite</td>\n",
       "      <td>Café</td>\n",
       "      <td>~Cerveja</td>\n",
       "      <td>Pão</td>\n",
       "      <td>Manteiga</td>\n",
       "      <td>~Arroz</td>\n",
       "      <td>~Feijão</td>\n",
       "    </tr>\n",
       "    <tr>\n",
       "      <th>4</th>\n",
       "      <td>~Leite</td>\n",
       "      <td>~Café</td>\n",
       "      <td>Cerveja</td>\n",
       "      <td>~Pão</td>\n",
       "      <td>~Manteiga</td>\n",
       "      <td>~Arroz</td>\n",
       "      <td>~Feijão</td>\n",
       "    </tr>\n",
       "    <tr>\n",
       "      <th>5</th>\n",
       "      <td>~Leite</td>\n",
       "      <td>~Café</td>\n",
       "      <td>~Cerveja</td>\n",
       "      <td>~Pão</td>\n",
       "      <td>Manteiga</td>\n",
       "      <td>~Arroz</td>\n",
       "      <td>~Feijão</td>\n",
       "    </tr>\n",
       "    <tr>\n",
       "      <th>6</th>\n",
       "      <td>~Leite</td>\n",
       "      <td>~Café</td>\n",
       "      <td>~Cerveja</td>\n",
       "      <td>Pão</td>\n",
       "      <td>~Manteiga</td>\n",
       "      <td>~Arroz</td>\n",
       "      <td>~Feijão</td>\n",
       "    </tr>\n",
       "    <tr>\n",
       "      <th>7</th>\n",
       "      <td>~Leite</td>\n",
       "      <td>~Café</td>\n",
       "      <td>~Cerveja</td>\n",
       "      <td>~Pão</td>\n",
       "      <td>~Manteiga</td>\n",
       "      <td>~Arroz</td>\n",
       "      <td>Feijão</td>\n",
       "    </tr>\n",
       "    <tr>\n",
       "      <th>8</th>\n",
       "      <td>~Leite</td>\n",
       "      <td>~Café</td>\n",
       "      <td>~Cerveja</td>\n",
       "      <td>~Pão</td>\n",
       "      <td>~Manteiga</td>\n",
       "      <td>Arroz</td>\n",
       "      <td>Feijão</td>\n",
       "    </tr>\n",
       "    <tr>\n",
       "      <th>9</th>\n",
       "      <td>~Leite</td>\n",
       "      <td>~Café</td>\n",
       "      <td>~Cerveja</td>\n",
       "      <td>~Pão</td>\n",
       "      <td>~Manteiga</td>\n",
       "      <td>Arroz</td>\n",
       "      <td>~Feijão</td>\n",
       "    </tr>\n",
       "  </tbody>\n",
       "</table>\n",
       "</div>"
      ],
      "text/plain": [
       "    Leite   Café   Cerveja   Pão   Manteiga   Arroz   Feijão\n",
       "0  ~Leite   Café  ~Cerveja   Pão   Manteiga  ~Arroz  ~Feijão\n",
       "1   Leite  ~Café   Cerveja   Pão   Manteiga  ~Arroz  ~Feijão\n",
       "2  ~Leite   Café  ~Cerveja   Pão   Manteiga  ~Arroz  ~Feijão\n",
       "3   Leite   Café  ~Cerveja   Pão   Manteiga  ~Arroz  ~Feijão\n",
       "4  ~Leite  ~Café   Cerveja  ~Pão  ~Manteiga  ~Arroz  ~Feijão\n",
       "5  ~Leite  ~Café  ~Cerveja  ~Pão   Manteiga  ~Arroz  ~Feijão\n",
       "6  ~Leite  ~Café  ~Cerveja   Pão  ~Manteiga  ~Arroz  ~Feijão\n",
       "7  ~Leite  ~Café  ~Cerveja  ~Pão  ~Manteiga  ~Arroz   Feijão\n",
       "8  ~Leite  ~Café  ~Cerveja  ~Pão  ~Manteiga   Arroz   Feijão\n",
       "9  ~Leite  ~Café  ~Cerveja  ~Pão  ~Manteiga   Arroz  ~Feijão"
      ]
     },
     "execution_count": 98,
     "metadata": {},
     "output_type": "execute_result"
    }
   ],
   "source": [
    "base"
   ]
  },
  {
   "cell_type": "code",
   "execution_count": 99,
   "metadata": {
    "id": "oIBsczbGCxWf"
   },
   "outputs": [
    {
     "data": {
      "text/plain": [
       "(10, 7)"
      ]
     },
     "execution_count": 99,
     "metadata": {},
     "output_type": "execute_result"
    }
   ],
   "source": [
    "base.shape"
   ]
  },
  {
   "cell_type": "markdown",
   "metadata": {
    "id": "cQyNolxV37tx"
   },
   "source": [
    "**Como estaremos treinando um modelo a priori, que recebe entradas em formato de lista, precisamos transformar o dataframe em uma lista de transações.**"
   ]
  },
  {
   "cell_type": "code",
   "execution_count": 100,
   "metadata": {
    "id": "ZF8i0EdWCMjY"
   },
   "outputs": [],
   "source": [
    "transacoes = []\n",
    "for i in range(len(base)):\n",
    "  #print(i)\n",
    "  #print(base_mercado1.values[i, 0])\n",
    "  transacoes.append([str(base.values[i, j]) for j in range(base.shape[1])])"
   ]
  },
  {
   "cell_type": "code",
   "execution_count": 101,
   "metadata": {
    "colab": {
     "base_uri": "https://localhost:8080/"
    },
    "id": "XH2CNc6VC3e3",
    "outputId": "1f2140b6-70de-44e5-f984-a5d3618aa65b"
   },
   "outputs": [
    {
     "data": {
      "text/plain": [
       "[['~Leite', 'Café', '~Cerveja', 'Pão', 'Manteiga', '~Arroz', '~Feijão'],\n",
       " ['Leite', '~Café', 'Cerveja', 'Pão', 'Manteiga', '~Arroz', '~Feijão'],\n",
       " ['~Leite', 'Café', '~Cerveja', 'Pão', 'Manteiga', '~Arroz', '~Feijão'],\n",
       " ['Leite', 'Café', '~Cerveja', 'Pão', 'Manteiga', '~Arroz', '~Feijão'],\n",
       " ['~Leite', '~Café', 'Cerveja', '~Pão', '~Manteiga', '~Arroz', '~Feijão'],\n",
       " ['~Leite', '~Café', '~Cerveja', '~Pão', 'Manteiga', '~Arroz', '~Feijão'],\n",
       " ['~Leite', '~Café', '~Cerveja', 'Pão', '~Manteiga', '~Arroz', '~Feijão'],\n",
       " ['~Leite', '~Café', '~Cerveja', '~Pão', '~Manteiga', '~Arroz', 'Feijão'],\n",
       " ['~Leite', '~Café', '~Cerveja', '~Pão', '~Manteiga', 'Arroz', 'Feijão'],\n",
       " ['~Leite', '~Café', '~Cerveja', '~Pão', '~Manteiga', 'Arroz', '~Feijão']]"
      ]
     },
     "execution_count": 101,
     "metadata": {},
     "output_type": "execute_result"
    }
   ],
   "source": [
    "transacoes"
   ]
  },
  {
   "cell_type": "code",
   "execution_count": 102,
   "metadata": {
    "colab": {
     "base_uri": "https://localhost:8080/"
    },
    "id": "jF4Ec_ryDNfw",
    "outputId": "8edf4cb8-90f1-448a-fc4e-2a213ae0434d"
   },
   "outputs": [
    {
     "data": {
      "text/plain": [
       "list"
      ]
     },
     "execution_count": 102,
     "metadata": {},
     "output_type": "execute_result"
    }
   ],
   "source": [
    "type(transacoes)"
   ]
  },
  {
   "cell_type": "markdown",
   "metadata": {
    "id": "ggzA0uJg_3Ns"
   },
   "source": [
    "**Vamos chamar executar o algoritmo apriori e armazenar as regras obtidas**"
   ]
  },
  {
   "cell_type": "code",
   "execution_count": 103,
   "metadata": {
    "colab": {
     "base_uri": "https://localhost:8080/"
    },
    "id": "DuX5YuabzqfQ",
    "outputId": "759da255-e827-43c6-828c-20255075316b"
   },
   "outputs": [
    {
     "name": "stdout",
     "output_type": "stream",
     "text": [
      "117\n"
     ]
    }
   ],
   "source": [
    "regras = apriori(transacoes, min_support = 0.3, min_confidence = 0.8)\n",
    "saida = list(regras) \n",
    "print(len(saida))\n",
    "# print(saida)"
   ]
  },
  {
   "cell_type": "code",
   "execution_count": 104,
   "metadata": {
    "colab": {
     "base_uri": "https://localhost:8080/"
    },
    "id": "l4vMQUJfHu0e",
    "outputId": "9506e5dd-0644-4baa-9bd9-946a815b2d62"
   },
   "outputs": [
    {
     "name": "stdout",
     "output_type": "stream",
     "text": [
      "RelationRecord(items=frozenset({'~Arroz'}), support=0.8, ordered_statistics=[OrderedStatistic(items_base=frozenset(), items_add=frozenset({'~Arroz'}), confidence=0.8, lift=1.0)])\n"
     ]
    }
   ],
   "source": [
    "print(saida[0])"
   ]
  },
  {
   "cell_type": "code",
   "execution_count": 105,
   "metadata": {
    "colab": {
     "base_uri": "https://localhost:8080/"
    },
    "id": "M0hNno4uPcs9",
    "outputId": "f8ae8a58-6414-48c0-bade-7a03b4f3f97c"
   },
   "outputs": [
    {
     "name": "stdout",
     "output_type": "stream",
     "text": [
      "RelationRecord(items=frozenset({'~Cerveja'}), support=0.8, ordered_statistics=[OrderedStatistic(items_base=frozenset(), items_add=frozenset({'~Cerveja'}), confidence=0.8, lift=1.0)])\n"
     ]
    }
   ],
   "source": [
    "print(saida[1])"
   ]
  },
  {
   "cell_type": "code",
   "execution_count": 106,
   "metadata": {
    "colab": {
     "base_uri": "https://localhost:8080/"
    },
    "id": "0ZMoSVL_9aXP",
    "outputId": "43a09394-2792-4963-ed70-e0f1d3af4a17"
   },
   "outputs": [
    {
     "name": "stdout",
     "output_type": "stream",
     "text": [
      "RelationRecord(items=frozenset({'~Feijão'}), support=0.8, ordered_statistics=[OrderedStatistic(items_base=frozenset(), items_add=frozenset({'~Feijão'}), confidence=0.8, lift=1.0)])\n"
     ]
    }
   ],
   "source": [
    "print(saida[2])"
   ]
  },
  {
   "cell_type": "markdown",
   "metadata": {
    "id": "soknidg94a2y"
   },
   "source": [
    "**Para facilitar a visualização, veja como transformar isso em um dataframe** \n",
    "\n",
    "Extraído de:\n",
    "\n",
    "https://www.section.io/engineering-education/apriori-algorithm-in-python/\n",
    "\n",
    "https://splunktool.com/understanding-apyoris-output"
   ]
  },
  {
   "cell_type": "code",
   "execution_count": 136,
   "metadata": {
    "id": "UWDno2uo4aL0"
   },
   "outputs": [],
   "source": [
    "Antecedente = []\n",
    "Consequente = []\n",
    "suporte = []\n",
    "confianca = []\n",
    "lift = []\n",
    "cont = 0\n",
    "\n",
    "for resultado in saida:\n",
    "    s = resultado[1]\n",
    "    result_rules = resultado[2]\n",
    "    for result_rule in result_rules:\n",
    "        cont = 0\n",
    "        a = list(result_rule[0])\n",
    "        b = list(result_rule[1])\n",
    "        c = result_rule[2]\n",
    "        l = result_rule[3]\n",
    "        if \"~\" in b[0]:\n",
    "            continue\n",
    "        if 'nan' in a or 'nan' in b:\n",
    "            continue\n",
    "        if len(a) == 0 or len(b) == 0:\n",
    "            continue\n",
    "        for element in a:\n",
    "            if \"~\" in element:\n",
    "                cont = cont+1\n",
    "        if cont == len(a):\n",
    "            Antecedente.append(a)\n",
    "            Consequente.append(b)\n",
    "            suporte.append(s)\n",
    "            confianca.append(c)\n",
    "            lift.append(l)\n",
    "            RegrasFinais = pd.DataFrame({'Antecedente': Antecedente, 'Consequente': Consequente, 'suporte': suporte, 'confianca': confianca, 'lift': lift})"
   ]
  },
  {
   "cell_type": "code",
   "execution_count": 137,
   "metadata": {
    "colab": {
     "base_uri": "https://localhost:8080/",
     "height": 112
    },
    "id": "QW7wcZbe431-",
    "outputId": "9a4ebee0-91b5-4add-e562-d3cab7939970"
   },
   "outputs": [
    {
     "data": {
      "text/html": [
       "<div>\n",
       "<style scoped>\n",
       "    .dataframe tbody tr th:only-of-type {\n",
       "        vertical-align: middle;\n",
       "    }\n",
       "\n",
       "    .dataframe tbody tr th {\n",
       "        vertical-align: top;\n",
       "    }\n",
       "\n",
       "    .dataframe thead th {\n",
       "        text-align: right;\n",
       "    }\n",
       "</style>\n",
       "<table border=\"1\" class=\"dataframe\">\n",
       "  <thead>\n",
       "    <tr style=\"text-align: right;\">\n",
       "      <th></th>\n",
       "      <th>Antecedente</th>\n",
       "      <th>Consequente</th>\n",
       "      <th>suporte</th>\n",
       "      <th>confianca</th>\n",
       "      <th>lift</th>\n",
       "    </tr>\n",
       "  </thead>\n",
       "  <tbody>\n",
       "    <tr>\n",
       "      <th>0</th>\n",
       "      <td>[~Arroz, ~Feijão, ~Cerveja]</td>\n",
       "      <td>[Manteiga]</td>\n",
       "      <td>0.4</td>\n",
       "      <td>0.8</td>\n",
       "      <td>1.6</td>\n",
       "    </tr>\n",
       "    <tr>\n",
       "      <th>1</th>\n",
       "      <td>[~Arroz, ~Feijão, ~Cerveja]</td>\n",
       "      <td>[Pão]</td>\n",
       "      <td>0.4</td>\n",
       "      <td>0.8</td>\n",
       "      <td>1.6</td>\n",
       "    </tr>\n",
       "  </tbody>\n",
       "</table>\n",
       "</div>"
      ],
      "text/plain": [
       "                   Antecedente Consequente  suporte  confianca  lift\n",
       "0  [~Arroz, ~Feijão, ~Cerveja]  [Manteiga]      0.4        0.8   1.6\n",
       "1  [~Arroz, ~Feijão, ~Cerveja]       [Pão]      0.4        0.8   1.6"
      ]
     },
     "execution_count": 137,
     "metadata": {},
     "output_type": "execute_result"
    }
   ],
   "source": [
    "RegrasFinais"
   ]
  },
  {
   "cell_type": "markdown",
   "metadata": {
    "id": "DJUXykHjhbJ0"
   },
   "source": [
    "**Podemos ordenar estas regras por uma métrica desejada**"
   ]
  },
  {
   "cell_type": "code",
   "execution_count": 138,
   "metadata": {
    "colab": {
     "base_uri": "https://localhost:8080/",
     "height": 112
    },
    "id": "A7X_YwVHhaxf",
    "outputId": "27c00b86-4295-4b16-b49f-f3bbf3d34c9e"
   },
   "outputs": [
    {
     "data": {
      "text/html": [
       "<div>\n",
       "<style scoped>\n",
       "    .dataframe tbody tr th:only-of-type {\n",
       "        vertical-align: middle;\n",
       "    }\n",
       "\n",
       "    .dataframe tbody tr th {\n",
       "        vertical-align: top;\n",
       "    }\n",
       "\n",
       "    .dataframe thead th {\n",
       "        text-align: right;\n",
       "    }\n",
       "</style>\n",
       "<table border=\"1\" class=\"dataframe\">\n",
       "  <thead>\n",
       "    <tr style=\"text-align: right;\">\n",
       "      <th></th>\n",
       "      <th>Antecedente</th>\n",
       "      <th>Consequente</th>\n",
       "      <th>suporte</th>\n",
       "      <th>confianca</th>\n",
       "      <th>lift</th>\n",
       "    </tr>\n",
       "  </thead>\n",
       "  <tbody>\n",
       "    <tr>\n",
       "      <th>0</th>\n",
       "      <td>[~Arroz, ~Feijão, ~Cerveja]</td>\n",
       "      <td>[Manteiga]</td>\n",
       "      <td>0.4</td>\n",
       "      <td>0.8</td>\n",
       "      <td>1.6</td>\n",
       "    </tr>\n",
       "    <tr>\n",
       "      <th>1</th>\n",
       "      <td>[~Arroz, ~Feijão, ~Cerveja]</td>\n",
       "      <td>[Pão]</td>\n",
       "      <td>0.4</td>\n",
       "      <td>0.8</td>\n",
       "      <td>1.6</td>\n",
       "    </tr>\n",
       "  </tbody>\n",
       "</table>\n",
       "</div>"
      ],
      "text/plain": [
       "                   Antecedente Consequente  suporte  confianca  lift\n",
       "0  [~Arroz, ~Feijão, ~Cerveja]  [Manteiga]      0.4        0.8   1.6\n",
       "1  [~Arroz, ~Feijão, ~Cerveja]       [Pão]      0.4        0.8   1.6"
      ]
     },
     "execution_count": 138,
     "metadata": {},
     "output_type": "execute_result"
    }
   ],
   "source": [
    "RegrasFinais.sort_values(by='lift', ascending =False)"
   ]
  },
  {
   "cell_type": "code",
   "execution_count": null,
   "metadata": {},
   "outputs": [],
   "source": []
  }
 ],
 "metadata": {
  "colab": {
   "provenance": []
  },
  "kernelspec": {
   "display_name": "Python 3 (ipykernel)",
   "language": "python",
   "name": "python3"
  },
  "language_info": {
   "codemirror_mode": {
    "name": "ipython",
    "version": 3
   },
   "file_extension": ".py",
   "mimetype": "text/x-python",
   "name": "python",
   "nbconvert_exporter": "python",
   "pygments_lexer": "ipython3",
   "version": "3.11.8"
  }
 },
 "nbformat": 4,
 "nbformat_minor": 4
}
