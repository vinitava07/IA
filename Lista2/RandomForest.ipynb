{
 "cells": [
  {
   "cell_type": "code",
   "execution_count": 149,
   "id": "5c39cffc-0e9d-4a92-ab82-e9ac8d7b8a69",
   "metadata": {},
   "outputs": [],
   "source": [
    "import pandas as pd\n",
    "import numpy as np\n",
    "from sklearn.model_selection import train_test_split\n",
    "from sklearn.metrics import mean_squared_error\n",
    "from sklearn.metrics import confusion_matrix\n",
    "from sklearn.metrics import accuracy_score\n"
   ]
  },
  {
   "cell_type": "code",
   "execution_count": 150,
   "id": "8ff0bb0c-b7b8-4998-aab1-e27af62cc734",
   "metadata": {},
   "outputs": [],
   "source": [
    "data = pd.read_csv(\"weather.nominal.csv\")"
   ]
  },
  {
   "cell_type": "code",
   "execution_count": 151,
   "id": "8a667b04-142d-4b1e-a73b-370c7f978ae4",
   "metadata": {},
   "outputs": [
    {
     "data": {
      "text/html": [
       "<div>\n",
       "<style scoped>\n",
       "    .dataframe tbody tr th:only-of-type {\n",
       "        vertical-align: middle;\n",
       "    }\n",
       "\n",
       "    .dataframe tbody tr th {\n",
       "        vertical-align: top;\n",
       "    }\n",
       "\n",
       "    .dataframe thead th {\n",
       "        text-align: right;\n",
       "    }\n",
       "</style>\n",
       "<table border=\"1\" class=\"dataframe\">\n",
       "  <thead>\n",
       "    <tr style=\"text-align: right;\">\n",
       "      <th></th>\n",
       "      <th>outlook</th>\n",
       "      <th>temperature</th>\n",
       "      <th>humidity</th>\n",
       "      <th>windy</th>\n",
       "      <th>play</th>\n",
       "    </tr>\n",
       "  </thead>\n",
       "  <tbody>\n",
       "    <tr>\n",
       "      <th>0</th>\n",
       "      <td>sunny</td>\n",
       "      <td>hot</td>\n",
       "      <td>high</td>\n",
       "      <td>False</td>\n",
       "      <td>no</td>\n",
       "    </tr>\n",
       "    <tr>\n",
       "      <th>1</th>\n",
       "      <td>sunny</td>\n",
       "      <td>hot</td>\n",
       "      <td>high</td>\n",
       "      <td>True</td>\n",
       "      <td>no</td>\n",
       "    </tr>\n",
       "    <tr>\n",
       "      <th>2</th>\n",
       "      <td>overcast</td>\n",
       "      <td>hot</td>\n",
       "      <td>high</td>\n",
       "      <td>False</td>\n",
       "      <td>yes</td>\n",
       "    </tr>\n",
       "    <tr>\n",
       "      <th>3</th>\n",
       "      <td>rainy</td>\n",
       "      <td>mild</td>\n",
       "      <td>high</td>\n",
       "      <td>False</td>\n",
       "      <td>yes</td>\n",
       "    </tr>\n",
       "    <tr>\n",
       "      <th>4</th>\n",
       "      <td>rainy</td>\n",
       "      <td>cool</td>\n",
       "      <td>normal</td>\n",
       "      <td>False</td>\n",
       "      <td>yes</td>\n",
       "    </tr>\n",
       "    <tr>\n",
       "      <th>5</th>\n",
       "      <td>rainy</td>\n",
       "      <td>cool</td>\n",
       "      <td>normal</td>\n",
       "      <td>True</td>\n",
       "      <td>no</td>\n",
       "    </tr>\n",
       "    <tr>\n",
       "      <th>6</th>\n",
       "      <td>overcast</td>\n",
       "      <td>cool</td>\n",
       "      <td>normal</td>\n",
       "      <td>True</td>\n",
       "      <td>yes</td>\n",
       "    </tr>\n",
       "    <tr>\n",
       "      <th>7</th>\n",
       "      <td>sunny</td>\n",
       "      <td>mild</td>\n",
       "      <td>high</td>\n",
       "      <td>False</td>\n",
       "      <td>no</td>\n",
       "    </tr>\n",
       "    <tr>\n",
       "      <th>8</th>\n",
       "      <td>sunny</td>\n",
       "      <td>cool</td>\n",
       "      <td>normal</td>\n",
       "      <td>False</td>\n",
       "      <td>yes</td>\n",
       "    </tr>\n",
       "    <tr>\n",
       "      <th>9</th>\n",
       "      <td>rainy</td>\n",
       "      <td>mild</td>\n",
       "      <td>normal</td>\n",
       "      <td>False</td>\n",
       "      <td>yes</td>\n",
       "    </tr>\n",
       "    <tr>\n",
       "      <th>10</th>\n",
       "      <td>sunny</td>\n",
       "      <td>mild</td>\n",
       "      <td>normal</td>\n",
       "      <td>True</td>\n",
       "      <td>yes</td>\n",
       "    </tr>\n",
       "    <tr>\n",
       "      <th>11</th>\n",
       "      <td>overcast</td>\n",
       "      <td>mild</td>\n",
       "      <td>high</td>\n",
       "      <td>True</td>\n",
       "      <td>yes</td>\n",
       "    </tr>\n",
       "    <tr>\n",
       "      <th>12</th>\n",
       "      <td>overcast</td>\n",
       "      <td>hot</td>\n",
       "      <td>normal</td>\n",
       "      <td>False</td>\n",
       "      <td>yes</td>\n",
       "    </tr>\n",
       "    <tr>\n",
       "      <th>13</th>\n",
       "      <td>rainy</td>\n",
       "      <td>mild</td>\n",
       "      <td>high</td>\n",
       "      <td>True</td>\n",
       "      <td>no</td>\n",
       "    </tr>\n",
       "  </tbody>\n",
       "</table>\n",
       "</div>"
      ],
      "text/plain": [
       "     outlook temperature humidity  windy play\n",
       "0      sunny         hot     high  False   no\n",
       "1      sunny         hot     high   True   no\n",
       "2   overcast         hot     high  False  yes\n",
       "3      rainy        mild     high  False  yes\n",
       "4      rainy        cool   normal  False  yes\n",
       "5      rainy        cool   normal   True   no\n",
       "6   overcast        cool   normal   True  yes\n",
       "7      sunny        mild     high  False   no\n",
       "8      sunny        cool   normal  False  yes\n",
       "9      rainy        mild   normal  False  yes\n",
       "10     sunny        mild   normal   True  yes\n",
       "11  overcast        mild     high   True  yes\n",
       "12  overcast         hot   normal  False  yes\n",
       "13     rainy        mild     high   True   no"
      ]
     },
     "execution_count": 151,
     "metadata": {},
     "output_type": "execute_result"
    }
   ],
   "source": [
    "data"
   ]
  },
  {
   "cell_type": "code",
   "execution_count": 152,
   "id": "cbca4e6c-241b-4a18-be5a-e019fb4c648c",
   "metadata": {},
   "outputs": [
    {
     "data": {
      "text/plain": [
       "array([['sunny', 'hot', 'high', False],\n",
       "       ['sunny', 'hot', 'high', True],\n",
       "       ['overcast', 'hot', 'high', False],\n",
       "       ['rainy', 'mild', 'high', False],\n",
       "       ['rainy', 'cool', 'normal', False],\n",
       "       ['rainy', 'cool', 'normal', True],\n",
       "       ['overcast', 'cool', 'normal', True],\n",
       "       ['sunny', 'mild', 'high', False],\n",
       "       ['sunny', 'cool', 'normal', False],\n",
       "       ['rainy', 'mild', 'normal', False],\n",
       "       ['sunny', 'mild', 'normal', True],\n",
       "       ['overcast', 'mild', 'high', True],\n",
       "       ['overcast', 'hot', 'normal', False],\n",
       "       ['rainy', 'mild', 'high', True]], dtype=object)"
      ]
     },
     "execution_count": 152,
     "metadata": {},
     "output_type": "execute_result"
    }
   ],
   "source": [
    "x_play = data.iloc[:,0:4].values\n",
    "y_play = data.iloc[:,4].values\n",
    "x_play\n",
    "# y_play = np.reshape(y_play, (-1, 1))"
   ]
  },
  {
   "cell_type": "code",
   "execution_count": 153,
   "id": "c6aa7342-78a1-4ade-b03a-b087576aa76a",
   "metadata": {},
   "outputs": [],
   "source": [
    "from sklearn.preprocessing import LabelEncoder\n",
    "le_outlook = LabelEncoder()\n",
    "le_temperature =LabelEncoder()\n",
    "le_humidity =LabelEncoder()\n",
    "le_windy =LabelEncoder()\n",
    "# le_play =LabelEncoder()"
   ]
  },
  {
   "cell_type": "code",
   "execution_count": 154,
   "id": "890ed19f-70fc-449b-8feb-ce8e760a0a4e",
   "metadata": {},
   "outputs": [
    {
     "data": {
      "text/plain": [
       "array([[2, 1, 0, 0],\n",
       "       [2, 1, 0, 1],\n",
       "       [0, 1, 0, 0],\n",
       "       [1, 2, 0, 0],\n",
       "       [1, 0, 1, 0],\n",
       "       [1, 0, 1, 1],\n",
       "       [0, 0, 1, 1],\n",
       "       [2, 2, 0, 0],\n",
       "       [2, 0, 1, 0],\n",
       "       [1, 2, 1, 0],\n",
       "       [2, 2, 1, 1],\n",
       "       [0, 2, 0, 1],\n",
       "       [0, 1, 1, 0],\n",
       "       [1, 2, 0, 1]], dtype=object)"
      ]
     },
     "execution_count": 154,
     "metadata": {},
     "output_type": "execute_result"
    }
   ],
   "source": [
    "x_play[:,0] = le_outlook.fit_transform(x_play[:,0])\n",
    "x_play[:,1] = le_temperature.fit_transform(x_play[:,1])\n",
    "x_play[:,2] = le_humidity.fit_transform(x_play[:,2])\n",
    "x_play[:,3] = le_windy.fit_transform(x_play[:,3])\n",
    "# y_play[:,0] = le_play.fit_transform(y_play[:,0])\n",
    "x_play"
   ]
  },
  {
   "cell_type": "code",
   "execution_count": 155,
   "id": "144fe5a5-d280-4ac9-91c2-ed69e792c062",
   "metadata": {},
   "outputs": [],
   "source": [
    "# xtr,xval,ytr,yval = train_test_split(x_play,y_play,test_size = 0.0, random_state = 0)"
   ]
  },
  {
   "cell_type": "code",
   "execution_count": 156,
   "id": "f782b420-c6e0-4e6e-a003-48ef4ab18836",
   "metadata": {},
   "outputs": [],
   "source": [
    "from sklearn.ensemble import RandomForestClassifier"
   ]
  },
  {
   "cell_type": "code",
   "execution_count": 157,
   "id": "3ecfc53a-b482-4eea-bcd0-c5e0dca8e422",
   "metadata": {},
   "outputs": [
    {
     "data": {
      "text/plain": [
       "array([0.44782477, 0.15272202, 0.22406556, 0.17538765])"
      ]
     },
     "execution_count": 157,
     "metadata": {},
     "output_type": "execute_result"
    }
   ],
   "source": [
    "arvores = RandomForestClassifier(random_state=0)\n",
    "arvores.fit(x_play,y_play)\n",
    "pred = arvores.predict(xval)\n",
    "arvores.feature_importances_"
   ]
  },
  {
   "cell_type": "code",
   "execution_count": 159,
   "id": "a53cf44b-e154-4252-943e-4a0fdb9f0aa0",
   "metadata": {},
   "outputs": [
    {
     "data": {
      "text/plain": [
       "array([[0, 0],\n",
       "       [1, 2]])"
      ]
     },
     "execution_count": 159,
     "metadata": {},
     "output_type": "execute_result"
    }
   ],
   "source": [
    "confusion_matrix(yval,p)"
   ]
  },
  {
   "cell_type": "code",
   "execution_count": 158,
   "id": "5a2fa2bb-22a3-43db-9ab0-fd4f0f90c51c",
   "metadata": {},
   "outputs": [
    {
     "data": {
      "text/plain": [
       "array(['no'], dtype=object)"
      ]
     },
     "execution_count": 158,
     "metadata": {},
     "output_type": "execute_result"
    }
   ],
   "source": [
    "#rainy(1), cool(0), normal(1), true(1)\n",
    "y_pred = arvores.predict([[1,0,1,1]])\n",
    "y_pred"
   ]
  }
 ],
 "metadata": {
  "kernelspec": {
   "display_name": "Python 3 (ipykernel)",
   "language": "python",
   "name": "python3"
  },
  "language_info": {
   "codemirror_mode": {
    "name": "ipython",
    "version": 3
   },
   "file_extension": ".py",
   "mimetype": "text/x-python",
   "name": "python",
   "nbconvert_exporter": "python",
   "pygments_lexer": "ipython3",
   "version": "3.11.8"
  }
 },
 "nbformat": 4,
 "nbformat_minor": 5
}
