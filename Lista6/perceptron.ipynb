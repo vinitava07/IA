{
 "cells": [
  {
   "cell_type": "code",
   "execution_count": 1,
   "id": "68d8d533-6151-49f6-94dd-140dd3bbbfc6",
   "metadata": {},
   "outputs": [],
   "source": [
    "import numpy as np"
   ]
  },
  {
   "cell_type": "code",
   "execution_count": 2,
   "id": "5bb28828-5ee4-49ce-89ed-7e51f9d79848",
   "metadata": {},
   "outputs": [],
   "source": [
    "class Perceptron:\n",
    "    def __init__(self, num_inputs, threshold=100, learning_rate=0.01):\n",
    "        self.weights = np.zeros(num_inputs + 1)  # +1 para o bias\n",
    "        self.threshold = threshold\n",
    "        self.learning_rate = learning_rate\n",
    "\n",
    "    def predict(self, inputs):\n",
    "        summation = np.dot(inputs, self.weights[1:]) + self.weights[0]\n",
    "        return 1 if summation > 0 else 0\n",
    "\n",
    "    def train(self, training_inputs, labels):\n",
    "        for _ in range(self.threshold):\n",
    "            for inputs, label in zip(training_inputs, labels):\n",
    "                prediction = self.predict(inputs)\n",
    "                self.weights[1:] += self.learning_rate * (label - prediction) * inputs\n",
    "                self.weights[0] += self.learning_rate * (label - prediction)"
   ]
  },
  {
   "cell_type": "code",
   "execution_count": 3,
   "id": "564720c2-16d8-47e9-bccb-eadf699228e8",
   "metadata": {},
   "outputs": [],
   "source": [
    "def generate_data(func, num_inputs):\n",
    "    # Gera todas as combinações possíveis de entradas booleanas\n",
    "    inputs = np.array(np.meshgrid(*[[0, 1]] * num_inputs)).T.reshape(-1, num_inputs)\n",
    "    labels = np.array([func(*input_row) for input_row in inputs])\n",
    "    return inputs, labels"
   ]
  },
  {
   "cell_type": "code",
   "execution_count": 6,
   "id": "575cab44-bf2c-4643-9ccc-341688795e10",
   "metadata": {},
   "outputs": [
    {
     "name": "stdin",
     "output_type": "stream",
     "text": [
      "Digite a quantidade de entradas (2, 3, 4... n):  2\n",
      "Digite a função desejada (AND ou OR):  and\n"
     ]
    }
   ],
   "source": [
    "# Funções AND e OR\n",
    "and_func = lambda *inputs: int(all(inputs))\n",
    "or_func = lambda *inputs: int(any(inputs))\n",
    "\n",
    "# Solicita a quantidade de entradas e a função desejada\n",
    "num_inputs = int(input(\"Digite a quantidade de entradas (2, 3, 4... n): \"))\n",
    "func_type = input(\"Digite a função desejada (AND ou OR): \").strip().upper()\n",
    "\n",
    "# Seleciona a função apropriada\n",
    "if func_type == 'AND':\n",
    "    func = and_func\n",
    "elif func_type == 'OR':\n",
    "    func = or_func\n",
    "else:\n",
    "    raise ValueError(\"Função não suportada. Escolha AND ou OR.\")"
   ]
  },
  {
   "cell_type": "code",
   "execution_count": 7,
   "id": "308237ef-8ffd-4d38-8334-beb913e0fd69",
   "metadata": {},
   "outputs": [
    {
     "name": "stdout",
     "output_type": "stream",
     "text": [
      "Input: [0 0], Output AND: 0\n",
      "Input: [0 1], Output AND: 0\n",
      "Input: [1 0], Output AND: 0\n",
      "Input: [1 1], Output AND: 1\n"
     ]
    }
   ],
   "source": [
    "# Gera os dados de treinamento\n",
    "inputs, labels = generate_data(func, num_inputs)\n",
    "\n",
    "# Cria e treina o perceptron\n",
    "perceptron = Perceptron(num_inputs=num_inputs)\n",
    "perceptron.train(inputs, labels)\n",
    "\n",
    "# Testa o perceptron com todas as combinações de entradas\n",
    "for input_row in inputs:\n",
    "    output = perceptron.predict(input_row)\n",
    "    print(f\"Input: {input_row}, Output {func_type}: {output}\")"
   ]
  },
  {
   "cell_type": "code",
   "execution_count": null,
   "id": "0108ac06-d5fe-4678-8166-e03301c6ae36",
   "metadata": {},
   "outputs": [],
   "source": []
  }
 ],
 "metadata": {
  "kernelspec": {
   "display_name": "Python 3 (ipykernel)",
   "language": "python",
   "name": "python3"
  },
  "language_info": {
   "codemirror_mode": {
    "name": "ipython",
    "version": 3
   },
   "file_extension": ".py",
   "mimetype": "text/x-python",
   "name": "python",
   "nbconvert_exporter": "python",
   "pygments_lexer": "ipython3",
   "version": "3.11.8"
  }
 },
 "nbformat": 4,
 "nbformat_minor": 5
}
