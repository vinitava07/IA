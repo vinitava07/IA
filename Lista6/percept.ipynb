{
 "cells": [
  {
   "cell_type": "code",
   "execution_count": 1,
   "id": "1b758a37-1bb5-460c-8334-f85413951f6e",
   "metadata": {},
   "outputs": [
    {
     "name": "stdout",
     "output_type": "stream",
     "text": [
      "OR: [0 1 1 1]\n",
      "AND: [0 0 0 1]\n",
      "XOR: [1 1 0 0]\n"
     ]
    }
   ],
   "source": [
    "import numpy as np\n",
    "\n",
    "class Perceptron:\n",
    "    def __init__(self, learning_rate=0.01, n_iter=50):\n",
    "        self.learning_rate = learning_rate\n",
    "        self.n_iter = n_iter\n",
    "    \n",
    "    def fit(self, X, y):\n",
    "        self.weights = np.zeros(1 + X.shape[1])\n",
    "        self.errors = []\n",
    "        \n",
    "        for _ in range(self.n_iter):\n",
    "            errors = 0\n",
    "            for xi, target in zip(X, y):\n",
    "                update = self.learning_rate * (target - self.predict(xi))\n",
    "                self.weights[1:] += update * xi\n",
    "                self.weights[0] += update\n",
    "                errors += int(update != 0.0)\n",
    "            self.errors.append(errors)\n",
    "        return self\n",
    "    \n",
    "    def net_input(self, X):\n",
    "        return np.dot(X, self.weights[1:]) + self.weights[0]\n",
    "    \n",
    "    def predict(self, X):\n",
    "        return np.where(self.net_input(X) >= 0.0, 1, 0)\n",
    "\n",
    "# Dados para as funções lógicas\n",
    "X = np.array([[0, 0], [0, 1], [1, 0], [1, 1]])\n",
    "\n",
    "# Função OR\n",
    "y_or = np.array([0, 1, 1, 1])\n",
    "perceptron_or = Perceptron(learning_rate=0.1, n_iter=10)\n",
    "perceptron_or.fit(X, y_or)\n",
    "print(\"OR:\", perceptron_or.predict(X))\n",
    "\n",
    "# Função AND\n",
    "y_and = np.array([0, 0, 0, 1])\n",
    "perceptron_and = Perceptron(learning_rate=0.1, n_iter=10)\n",
    "perceptron_and.fit(X, y_and)\n",
    "print(\"AND:\", perceptron_and.predict(X))\n",
    "\n",
    "# Função XOR\n",
    "y_xor = np.array([0, 1, 1, 0])\n",
    "perceptron_xor = Perceptron(learning_rate=0.1, n_iter=100)\n",
    "perceptron_xor.fit(X, y_xor)\n",
    "print(\"XOR:\", perceptron_xor.predict(X))"
   ]
  },
  {
   "cell_type": "code",
   "execution_count": null,
   "id": "93166067-9f7e-4ed2-bdb9-d7628d40db27",
   "metadata": {},
   "outputs": [],
   "source": []
  }
 ],
 "metadata": {
  "kernelspec": {
   "display_name": "Python 3 (ipykernel)",
   "language": "python",
   "name": "python3"
  },
  "language_info": {
   "codemirror_mode": {
    "name": "ipython",
    "version": 3
   },
   "file_extension": ".py",
   "mimetype": "text/x-python",
   "name": "python",
   "nbconvert_exporter": "python",
   "pygments_lexer": "ipython3",
   "version": "3.11.8"
  }
 },
 "nbformat": 4,
 "nbformat_minor": 5
}
