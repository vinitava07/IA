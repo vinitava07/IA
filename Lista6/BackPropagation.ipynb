{
 "cells": [
  {
   "cell_type": "code",
   "execution_count": 12,
   "id": "424df923-5149-4950-a5dd-a5adb05e473f",
   "metadata": {},
   "outputs": [],
   "source": [
    "import numpy as np\n"
   ]
  },
  {
   "cell_type": "code",
   "execution_count": 13,
   "id": "b6a102ba-926d-4daf-9d1f-dd962fd7f132",
   "metadata": {},
   "outputs": [],
   "source": [
    "def sigmoid(x):\n",
    "    return 1 / (1 + np.exp(-x))\n",
    "\n",
    "def sigmoid_derivative(x):\n",
    "    return x * (1 - x)"
   ]
  },
  {
   "cell_type": "code",
   "execution_count": 14,
   "id": "d3a21f2c-dd73-4d95-b267-63d4fd1df716",
   "metadata": {},
   "outputs": [],
   "source": [
    "def generate_data(function, n_inputs):\n",
    "    # Gerar todas as combinações possíveis de entradas booleanas\n",
    "    inputs = np.array(np.meshgrid(*[[0, 1]] * n_inputs)).T.reshape(-1, n_inputs)\n",
    "\n",
    "    # Calcular a saída correspondente para a função lógica escolhida\n",
    "    if function == 'AND':\n",
    "        outputs = np.all(inputs, axis=1).astype(int)\n",
    "    elif function == 'OR':\n",
    "        outputs = np.any(inputs, axis=1).astype(int)\n",
    "    elif function == 'XOR':\n",
    "        outputs = np.bitwise_xor.reduce(inputs, axis=1)\n",
    "    else:\n",
    "        raise ValueError(\"Função desconhecida\")\n",
    "\n",
    "    return inputs, outputs.reshape(-1, 1)"
   ]
  },
  {
   "cell_type": "code",
   "execution_count": 15,
   "id": "4c11ef19-07ee-4f0d-9d0c-583576d0425b",
   "metadata": {},
   "outputs": [],
   "source": [
    "class NeuralNetwork:\n",
    "    def __init__(self, n_inputs):\n",
    "        # Inicializando pesos aleatoriamente\n",
    "        self.weights1 = np.random.rand(n_inputs, 4)  # Pesos da camada oculta\n",
    "        self.weights2 = np.random.rand(4, 1)        # Pesos da camada de saída\n",
    "\n",
    "    def feedforward(self, inputs):\n",
    "        self.layer1 = sigmoid(np.dot(inputs, self.weights1))\n",
    "        self.output = sigmoid(np.dot(self.layer1, self.weights2))\n",
    "        return self.output\n",
    "\n",
    "    def backpropagation(self, inputs, outputs, learning_rate):\n",
    "        # Calculando o erro\n",
    "        error = outputs - self.feedforward(inputs)\n",
    "        \n",
    "        # Calculando o delta (ajuste) para os pesos\n",
    "        d_weights2 = np.dot(self.layer1.T, (2 * error * sigmoid_derivative(self.output)))\n",
    "        d_weights1 = np.dot(inputs.T, (np.dot(2 * error * sigmoid_derivative(self.output), self.weights2.T) * sigmoid_derivative(self.layer1)))\n",
    "\n",
    "        # Atualizando os pesos\n",
    "        self.weights1 += learning_rate * d_weights1\n",
    "        self.weights2 += learning_rate * d_weights2\n",
    "\n",
    "    def train(self, inputs, outputs, learning_rate=0.1, epochs=10000):\n",
    "        for _ in range(epochs):\n",
    "            self.backpropagation(inputs, outputs, learning_rate)\n"
   ]
  },
  {
   "cell_type": "code",
   "execution_count": 16,
   "id": "b1b19877-55d5-4e7f-88e0-1d3dd4eb0252",
   "metadata": {},
   "outputs": [],
   "source": [
    "def train_network(function, n_inputs):\n",
    "    inputs, outputs = generate_data(function, n_inputs)\n",
    "    neural_network = NeuralNetwork(n_inputs)\n",
    "    neural_network.train(inputs, outputs)\n",
    "    return neural_network"
   ]
  },
  {
   "cell_type": "code",
   "execution_count": 17,
   "id": "4f601133-ff6e-466b-b3bb-96695378f585",
   "metadata": {},
   "outputs": [],
   "source": [
    "class ImprovedNeuralNetwork:\n",
    "    def __init__(self, n_inputs):\n",
    "        # Aumentando o número de neurônios nas camadas ocultas\n",
    "        self.weights1 = np.random.rand(n_inputs, 8)  # Primeira camada oculta\n",
    "        self.weights2 = np.random.rand(8, 8)         # Segunda camada oculta\n",
    "        self.weights3 = np.random.rand(8, 1)         # Camada de saída\n",
    "\n",
    "    def feedforward(self, inputs):\n",
    "        self.layer1 = sigmoid(np.dot(inputs, self.weights1))\n",
    "        self.layer2 = sigmoid(np.dot(self.layer1, self.weights2))\n",
    "        self.output = sigmoid(np.dot(self.layer2, self.weights3))\n",
    "        return self.output\n",
    "\n",
    "    def backpropagation(self, inputs, outputs, learning_rate):\n",
    "        # Calculando o erro\n",
    "        error = outputs - self.feedforward(inputs)\n",
    "        \n",
    "        # Calculando o delta (ajuste) para os pesos\n",
    "        d_weights3 = np.dot(self.layer2.T, (2 * error * sigmoid_derivative(self.output)))\n",
    "        d_weights2 = np.dot(self.layer1.T, (np.dot(2 * error * sigmoid_derivative(self.output), self.weights3.T) * sigmoid_derivative(self.layer2)))\n",
    "        d_weights1 = np.dot(inputs.T, (np.dot(np.dot(2 * error * sigmoid_derivative(self.output), self.weights3.T) * sigmoid_derivative(self.layer2), self.weights2.T) * sigmoid_derivative(self.layer1)))\n",
    "\n",
    "        # Atualizando os pesos\n",
    "        self.weights1 += learning_rate * d_weights1\n",
    "        self.weights2 += learning_rate * d_weights2\n",
    "        self.weights3 += learning_rate * d_weights3\n",
    "\n",
    "    def train(self, inputs, outputs, learning_rate=0.1, epochs=50000):\n",
    "        for _ in range(epochs):\n",
    "            self.backpropagation(inputs, outputs, learning_rate)"
   ]
  },
  {
   "cell_type": "code",
   "execution_count": null,
   "id": "7994957d-08f1-4c32-a348-6a5706f6f6ff",
   "metadata": {},
   "outputs": [],
   "source": [
    "def train_improved_network(function, n_inputs):\n",
    "    inputs, outputs = generate_data(function, n_inputs)\n",
    "    neural_network = ImprovedNeuralNetwork(n_inputs)\n",
    "    neural_network.train(inputs, outputs, learning_rate=0.1, epochs=50000)\n",
    "    return neural_network\n",
    "\n",
    "# Função para gerar todas as possíveis \"n\" entradas booleanas\n",
    "def generate_boolean_inputs(n):\n",
    "    # Gerar todas as combinações possíveis de entradas booleanas\n",
    "    return np.array(np.meshgrid(*[[0, 1]] * n)).T.reshape(-1, n)\n",
    "\n",
    "# Testando a função generate_boolean_inputs com 3 entradas\n",
    "boolean_inputs_3 = generate_boolean_inputs(3)\n",
    "boolean_inputs_3\n",
    "\n",
    "# Exemplo de uso: Treinando uma rede para a função XOR com 3 entradas\n",
    "# Treinando e testando a rede neural melhorada para a função XOR com 3 entradas\n",
    "improved_nn_xor = train_improved_network('XOR', 3)\n",
    "xor_results = improved_nn_xor.feedforward(boolean_inputs_3)\n",
    "# Treinando redes neurais para as funções AND e OR com 3 entradas\n",
    "nn_and = train_network('AND', 3)\n",
    "nn_or = train_network('OR', 3)\n",
    "\n",
    "# Testando as redes com as entradas geradas\n",
    "and_results = nn_and.feedforward(boolean_inputs_3)\n",
    "or_results = nn_or.feedforward(boolean_inputs_3)\n",
    "\n"
   ]
  },
  {
   "cell_type": "code",
   "execution_count": 20,
   "id": "d7cc1d7d-84ac-440c-9de7-9b8dccb515ca",
   "metadata": {},
   "outputs": [
    {
     "name": "stdout",
     "output_type": "stream",
     "text": [
      "======================ENTRADAS======================\n",
      "\n",
      "[[0 0 0]\n",
      " [0 1 0]\n",
      " [1 0 0]\n",
      " [1 1 0]\n",
      " [0 0 1]\n",
      " [0 1 1]\n",
      " [1 0 1]\n",
      " [1 1 1]]\n",
      "======================AND======================\n",
      "\n",
      "[[1.55818143e-04]\n",
      " [1.44373619e-03]\n",
      " [2.40929317e-03]\n",
      " [1.91452139e-02]\n",
      " [7.97055198e-03]\n",
      " [2.51110186e-02]\n",
      " [2.28954676e-02]\n",
      " [9.56833390e-01]]\n",
      "======================OR======================\n",
      "\n",
      "[[0.03268021]\n",
      " [0.98503493]\n",
      " [0.98509094]\n",
      " [0.99707904]\n",
      " [0.98512641]\n",
      " [0.9970634 ]\n",
      " [0.99709268]\n",
      " [0.99765294]]\n",
      "======================XOR======================\n",
      "\n",
      "[[0.00813951]\n",
      " [0.99560534]\n",
      " [0.9951621 ]\n",
      " [0.00581932]\n",
      " [0.99461333]\n",
      " [0.00501101]\n",
      " [0.00512759]\n",
      " [0.99129433]]\n"
     ]
    }
   ],
   "source": [
    "print(\"======================ENTRADAS======================\\n\")\n",
    "print(boolean_inputs_3)\n",
    "print(\"======================AND======================\\n\")\n",
    "print(and_results)\n",
    "print(\"======================OR======================\\n\")\n",
    "print(or_results)\n",
    "print(\"======================XOR======================\\n\")\n",
    "print(xor_results)"
   ]
  },
  {
   "cell_type": "code",
   "execution_count": null,
   "id": "1ca67c97-ce36-495f-a7ee-ec5c0392a43f",
   "metadata": {},
   "outputs": [],
   "source": []
  }
 ],
 "metadata": {
  "kernelspec": {
   "display_name": "Python 3 (ipykernel)",
   "language": "python",
   "name": "python3"
  },
  "language_info": {
   "codemirror_mode": {
    "name": "ipython",
    "version": 3
   },
   "file_extension": ".py",
   "mimetype": "text/x-python",
   "name": "python",
   "nbconvert_exporter": "python",
   "pygments_lexer": "ipython3",
   "version": "3.11.8"
  }
 },
 "nbformat": 4,
 "nbformat_minor": 5
}
